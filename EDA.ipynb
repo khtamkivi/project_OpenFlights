{
 "cells": [
  {
   "cell_type": "code",
   "execution_count": 3,
   "id": "dd90eaa0-afdf-4045-b2cb-369356469fa0",
   "metadata": {},
   "outputs": [],
   "source": [
    "import pandas as pd\n",
    "import numpy as np\n",
    "import matplotlib.pyplot as plt\n",
    "import csv"
   ]
  },
  {
   "cell_type": "markdown",
   "id": "4b07e748-0e3e-447f-b6d0-57c40d2ca30d",
   "metadata": {},
   "source": [
    "### Reading in the data"
   ]
  },
  {
   "cell_type": "markdown",
   "id": "30a8250c-831d-4087-9a0e-fadae63866f8",
   "metadata": {},
   "source": [
    "### Airlines"
   ]
  },
  {
   "cell_type": "markdown",
   "id": "a57900f2-bf29-405a-8047-0b4114d273e9",
   "metadata": {},
   "source": [
    "As of January 2012, the OpenFlights Airlines Database contains 5888 airlines. Each entry contains the following information:\n",
    "\n",
    "**Airline ID**\tUnique OpenFlights identifier for this airline.\n",
    "\n",
    "**Name**\tName of the airline.\n",
    "\n",
    "**Alias**\tAlias of the airline. For example, All Nippon Airways is commonly known as \"ANA\".\n",
    "\n",
    "**IATA**\t2-letter IATA code, if available.\n",
    "\n",
    "**ICAO**\t3-letter ICAO code, if available.\n",
    "\n",
    "**Callsign**\tAirline callsign.\n",
    "\n",
    "**Country**\tCountry or territory where airport is located. See Countries to cross-reference to ISO 3166-1 codes.\n",
    "\n",
    "**Active**\t\"Y\" if the airline is or has until recently been operational, \"N\" if it is defunct. This field is not reliable: in particular, major airlines that stopped flying long ago, but have not had their IATA code reassigned (eg. Ansett/AN), will incorrectly show as \"Y\".\n",
    "The data is UTF-8 encoded. The special value \\N is used for \"NULL\" to indicate that no value is available, and is understood automatically by MySQL if imported.\n",
    "\n",
    "Notes: Airlines with null codes/callsigns/countries generally represent user-added airlines. Since the data is intended primarily for current flights, defunct IATA codes are generally not included. For example, \"Sabena\" is not listed with a SN IATA code, since \"SN\" is presently used by its successor Brussels Airlines."
   ]
  },
  {
   "cell_type": "code",
   "execution_count": 4,
   "id": "a3f7434d-c715-4864-b7ea-0415d4b0a23d",
   "metadata": {},
   "outputs": [],
   "source": [
    "input_data = \"DATA/airlines.txt\"\n",
    "\n",
    "headers = ['ID', 'Name', 'Alias', 'IATA', 'ICAO', 'Callsign', 'Country', 'Active']\n",
    "\n",
    "airlines = pd.read_csv(input_data, sep=',', names=headers)\n",
    "airlines = airlines.iloc[1:,]"
   ]
  },
  {
   "cell_type": "code",
   "execution_count": 5,
   "id": "fcb7a45e-4a4d-447c-b35b-f45ccb2a970b",
   "metadata": {},
   "outputs": [
    {
     "data": {
      "text/plain": [
       "(6161, 8)"
      ]
     },
     "execution_count": 5,
     "metadata": {},
     "output_type": "execute_result"
    }
   ],
   "source": [
    "airlines.shape"
   ]
  },
  {
   "cell_type": "code",
   "execution_count": 6,
   "id": "1c5b47c9-7a1f-4607-aa4d-de43ede06eef",
   "metadata": {},
   "outputs": [
    {
     "data": {
      "text/html": [
       "<div>\n",
       "<style scoped>\n",
       "    .dataframe tbody tr th:only-of-type {\n",
       "        vertical-align: middle;\n",
       "    }\n",
       "\n",
       "    .dataframe tbody tr th {\n",
       "        vertical-align: top;\n",
       "    }\n",
       "\n",
       "    .dataframe thead th {\n",
       "        text-align: right;\n",
       "    }\n",
       "</style>\n",
       "<table border=\"1\" class=\"dataframe\">\n",
       "  <thead>\n",
       "    <tr style=\"text-align: right;\">\n",
       "      <th></th>\n",
       "      <th>ID</th>\n",
       "      <th>Name</th>\n",
       "      <th>Alias</th>\n",
       "      <th>IATA</th>\n",
       "      <th>ICAO</th>\n",
       "      <th>Callsign</th>\n",
       "      <th>Country</th>\n",
       "      <th>Active</th>\n",
       "    </tr>\n",
       "  </thead>\n",
       "  <tbody>\n",
       "    <tr>\n",
       "      <th>1</th>\n",
       "      <td>1</td>\n",
       "      <td>Private flight</td>\n",
       "      <td>\\N</td>\n",
       "      <td>-</td>\n",
       "      <td>NaN</td>\n",
       "      <td>NaN</td>\n",
       "      <td>NaN</td>\n",
       "      <td>Y</td>\n",
       "    </tr>\n",
       "    <tr>\n",
       "      <th>2</th>\n",
       "      <td>2</td>\n",
       "      <td>135 Airways</td>\n",
       "      <td>\\N</td>\n",
       "      <td>NaN</td>\n",
       "      <td>GNL</td>\n",
       "      <td>GENERAL</td>\n",
       "      <td>United States</td>\n",
       "      <td>N</td>\n",
       "    </tr>\n",
       "    <tr>\n",
       "      <th>3</th>\n",
       "      <td>3</td>\n",
       "      <td>1Time Airline</td>\n",
       "      <td>\\N</td>\n",
       "      <td>1T</td>\n",
       "      <td>RNX</td>\n",
       "      <td>NEXTIME</td>\n",
       "      <td>South Africa</td>\n",
       "      <td>Y</td>\n",
       "    </tr>\n",
       "    <tr>\n",
       "      <th>4</th>\n",
       "      <td>4</td>\n",
       "      <td>2 Sqn No 1 Elementary Flying Training School</td>\n",
       "      <td>\\N</td>\n",
       "      <td>NaN</td>\n",
       "      <td>WYT</td>\n",
       "      <td>NaN</td>\n",
       "      <td>United Kingdom</td>\n",
       "      <td>N</td>\n",
       "    </tr>\n",
       "    <tr>\n",
       "      <th>5</th>\n",
       "      <td>5</td>\n",
       "      <td>213 Flight Unit</td>\n",
       "      <td>\\N</td>\n",
       "      <td>NaN</td>\n",
       "      <td>TFU</td>\n",
       "      <td>NaN</td>\n",
       "      <td>Russia</td>\n",
       "      <td>N</td>\n",
       "    </tr>\n",
       "  </tbody>\n",
       "</table>\n",
       "</div>"
      ],
      "text/plain": [
       "   ID                                          Name Alias IATA ICAO Callsign  \\\n",
       "1   1                                Private flight    \\N    -  NaN      NaN   \n",
       "2   2                                   135 Airways    \\N  NaN  GNL  GENERAL   \n",
       "3   3                                 1Time Airline    \\N   1T  RNX  NEXTIME   \n",
       "4   4  2 Sqn No 1 Elementary Flying Training School    \\N  NaN  WYT      NaN   \n",
       "5   5                               213 Flight Unit    \\N  NaN  TFU      NaN   \n",
       "\n",
       "          Country Active  \n",
       "1             NaN      Y  \n",
       "2   United States      N  \n",
       "3    South Africa      Y  \n",
       "4  United Kingdom      N  \n",
       "5          Russia      N  "
      ]
     },
     "execution_count": 6,
     "metadata": {},
     "output_type": "execute_result"
    }
   ],
   "source": [
    "airlines.head()"
   ]
  },
  {
   "cell_type": "markdown",
   "id": "dd936c78-3b72-4684-9799-5c40393165fc",
   "metadata": {},
   "source": [
    "### Airports"
   ]
  },
  {
   "cell_type": "markdown",
   "id": "7927954f-b531-416a-8e47-3a4bc21eee81",
   "metadata": {},
   "source": [
    "**Airport ID**\tUnique OpenFlights identifier for this airport. \n",
    "\n",
    "**Name** Name of airport. May or may not contain the City name.\n",
    "\n",
    "**City**\tMain city served by airport. May be spelled differently from Name.\n",
    "\n",
    "**Country**\tCountry or territory where airport is located. See Countries to cross-reference to ISO 3166-1 codes.\n",
    "\n",
    "**IATA**\t3-letter IATA code. Null if not assigned/unknown.\n",
    "\n",
    "**ICAO**\t4-letter ICAO code. Null if not assigned.\n",
    "\n",
    "**Latitude**\tDecimal degrees, usually to six significant digits. Negative is South, positive is North.\n",
    "\n",
    "**Longitude**\tDecimal degrees, usually to six significant digits. Negative is West, positive is East.\n",
    "\n",
    "**Altitude**\tIn feet.\n",
    "\n",
    "**Timezone**\tHours offset from UTC. Fractional hours are expressed as decimals, eg. India is 5.5.\n",
    "\n",
    "**DST**\tDaylight savings time. One of E (Europe), A (US/Canada), S (South America), O (Australia), Z (New Zealand), N (None) or U (Unknown). \n",
    "\n",
    "**Tz database timezone**\tTimezone in \"tz\" (Olson) format, eg. \"America/Los_Angeles\".\n",
    "\n",
    "**Type**\tType of the airport. Value \"airport\" for air terminals, \"station\" for train stations, \"port\" for ferry terminals and \"unknown\" if not known. In airports.csv, only type=airport is included.\n",
    "\n",
    "**Source**\tSource of this data. \"OurAirports\" for data sourced from OurAirports, \"Legacy\" for old data not matched to OurAirports (mostly DAFIF), \"User\" for unverified user contributions. In airports.csv, only source=OurAirports is included.\n",
    "The data is UTF-8 encoded.\n",
    "\n",
    "Note: Rules for daylight savings time change from year to year and from country to country. The current data is an approximation for 2009, built on a country level. Most airports in DST-less regions in countries that generally observe DST (eg. AL, HI in the USA, NT, QL in Australia, parts of Canada) are marked incorrectly."
   ]
  },
  {
   "cell_type": "code",
   "execution_count": 7,
   "id": "ecd6b0c7-7240-4fbe-a33b-256cdbbc6bc8",
   "metadata": {},
   "outputs": [],
   "source": [
    "input_data = \"DATA/airports.txt\"\n",
    "\n",
    "headers = ['ID', 'Name', 'City', 'Country', 'IATA', 'ICAO', 'Latitude', 'Longitude', 'Altitude', 'Timezone', 'DST', 'Tz database timezone', 'Type', 'Source']\n",
    "\n",
    "airports = pd.read_csv(input_data, sep=',', names=headers)"
   ]
  },
  {
   "cell_type": "code",
   "execution_count": 8,
   "id": "22ecdb70-fc5a-4516-80ab-2980f4db197e",
   "metadata": {},
   "outputs": [
    {
     "data": {
      "text/plain": [
       "(7698, 14)"
      ]
     },
     "execution_count": 8,
     "metadata": {},
     "output_type": "execute_result"
    }
   ],
   "source": [
    "airports.shape"
   ]
  },
  {
   "cell_type": "code",
   "execution_count": 9,
   "id": "e7900601-aabf-4d48-b465-4b330ef08c40",
   "metadata": {},
   "outputs": [
    {
     "data": {
      "text/html": [
       "<div>\n",
       "<style scoped>\n",
       "    .dataframe tbody tr th:only-of-type {\n",
       "        vertical-align: middle;\n",
       "    }\n",
       "\n",
       "    .dataframe tbody tr th {\n",
       "        vertical-align: top;\n",
       "    }\n",
       "\n",
       "    .dataframe thead th {\n",
       "        text-align: right;\n",
       "    }\n",
       "</style>\n",
       "<table border=\"1\" class=\"dataframe\">\n",
       "  <thead>\n",
       "    <tr style=\"text-align: right;\">\n",
       "      <th></th>\n",
       "      <th>ID</th>\n",
       "      <th>Name</th>\n",
       "      <th>City</th>\n",
       "      <th>Country</th>\n",
       "      <th>IATA</th>\n",
       "      <th>ICAO</th>\n",
       "      <th>Latitude</th>\n",
       "      <th>Longitude</th>\n",
       "      <th>Altitude</th>\n",
       "      <th>Timezone</th>\n",
       "      <th>DST</th>\n",
       "      <th>Tz database timezone</th>\n",
       "      <th>Type</th>\n",
       "      <th>Source</th>\n",
       "    </tr>\n",
       "  </thead>\n",
       "  <tbody>\n",
       "    <tr>\n",
       "      <th>0</th>\n",
       "      <td>1</td>\n",
       "      <td>Goroka Airport</td>\n",
       "      <td>Goroka</td>\n",
       "      <td>Papua New Guinea</td>\n",
       "      <td>GKA</td>\n",
       "      <td>AYGA</td>\n",
       "      <td>-6.081690</td>\n",
       "      <td>145.391998</td>\n",
       "      <td>5282</td>\n",
       "      <td>10</td>\n",
       "      <td>U</td>\n",
       "      <td>Pacific/Port_Moresby</td>\n",
       "      <td>airport</td>\n",
       "      <td>OurAirports</td>\n",
       "    </tr>\n",
       "    <tr>\n",
       "      <th>1</th>\n",
       "      <td>2</td>\n",
       "      <td>Madang Airport</td>\n",
       "      <td>Madang</td>\n",
       "      <td>Papua New Guinea</td>\n",
       "      <td>MAG</td>\n",
       "      <td>AYMD</td>\n",
       "      <td>-5.207080</td>\n",
       "      <td>145.789001</td>\n",
       "      <td>20</td>\n",
       "      <td>10</td>\n",
       "      <td>U</td>\n",
       "      <td>Pacific/Port_Moresby</td>\n",
       "      <td>airport</td>\n",
       "      <td>OurAirports</td>\n",
       "    </tr>\n",
       "    <tr>\n",
       "      <th>2</th>\n",
       "      <td>3</td>\n",
       "      <td>Mount Hagen Kagamuga Airport</td>\n",
       "      <td>Mount Hagen</td>\n",
       "      <td>Papua New Guinea</td>\n",
       "      <td>HGU</td>\n",
       "      <td>AYMH</td>\n",
       "      <td>-5.826790</td>\n",
       "      <td>144.296005</td>\n",
       "      <td>5388</td>\n",
       "      <td>10</td>\n",
       "      <td>U</td>\n",
       "      <td>Pacific/Port_Moresby</td>\n",
       "      <td>airport</td>\n",
       "      <td>OurAirports</td>\n",
       "    </tr>\n",
       "    <tr>\n",
       "      <th>3</th>\n",
       "      <td>4</td>\n",
       "      <td>Nadzab Airport</td>\n",
       "      <td>Nadzab</td>\n",
       "      <td>Papua New Guinea</td>\n",
       "      <td>LAE</td>\n",
       "      <td>AYNZ</td>\n",
       "      <td>-6.569803</td>\n",
       "      <td>146.725977</td>\n",
       "      <td>239</td>\n",
       "      <td>10</td>\n",
       "      <td>U</td>\n",
       "      <td>Pacific/Port_Moresby</td>\n",
       "      <td>airport</td>\n",
       "      <td>OurAirports</td>\n",
       "    </tr>\n",
       "    <tr>\n",
       "      <th>4</th>\n",
       "      <td>5</td>\n",
       "      <td>Port Moresby Jacksons International Airport</td>\n",
       "      <td>Port Moresby</td>\n",
       "      <td>Papua New Guinea</td>\n",
       "      <td>POM</td>\n",
       "      <td>AYPY</td>\n",
       "      <td>-9.443380</td>\n",
       "      <td>147.220001</td>\n",
       "      <td>146</td>\n",
       "      <td>10</td>\n",
       "      <td>U</td>\n",
       "      <td>Pacific/Port_Moresby</td>\n",
       "      <td>airport</td>\n",
       "      <td>OurAirports</td>\n",
       "    </tr>\n",
       "  </tbody>\n",
       "</table>\n",
       "</div>"
      ],
      "text/plain": [
       "   ID                                         Name          City  \\\n",
       "0   1                               Goroka Airport        Goroka   \n",
       "1   2                               Madang Airport        Madang   \n",
       "2   3                 Mount Hagen Kagamuga Airport   Mount Hagen   \n",
       "3   4                               Nadzab Airport        Nadzab   \n",
       "4   5  Port Moresby Jacksons International Airport  Port Moresby   \n",
       "\n",
       "            Country IATA  ICAO  Latitude   Longitude  Altitude Timezone DST  \\\n",
       "0  Papua New Guinea  GKA  AYGA -6.081690  145.391998      5282       10   U   \n",
       "1  Papua New Guinea  MAG  AYMD -5.207080  145.789001        20       10   U   \n",
       "2  Papua New Guinea  HGU  AYMH -5.826790  144.296005      5388       10   U   \n",
       "3  Papua New Guinea  LAE  AYNZ -6.569803  146.725977       239       10   U   \n",
       "4  Papua New Guinea  POM  AYPY -9.443380  147.220001       146       10   U   \n",
       "\n",
       "   Tz database timezone     Type       Source  \n",
       "0  Pacific/Port_Moresby  airport  OurAirports  \n",
       "1  Pacific/Port_Moresby  airport  OurAirports  \n",
       "2  Pacific/Port_Moresby  airport  OurAirports  \n",
       "3  Pacific/Port_Moresby  airport  OurAirports  \n",
       "4  Pacific/Port_Moresby  airport  OurAirports  "
      ]
     },
     "execution_count": 9,
     "metadata": {},
     "output_type": "execute_result"
    }
   ],
   "source": [
    "airports.head()"
   ]
  },
  {
   "cell_type": "markdown",
   "id": "390ca180-69d2-4ebd-9291-0d55ba042c2a",
   "metadata": {},
   "source": [
    "### Routes"
   ]
  },
  {
   "cell_type": "markdown",
   "id": "051656d8-fd64-4ad6-975d-58349df655d8",
   "metadata": {},
   "source": [
    "As of June 2014, the OpenFlights/Airline Route Mapper Route Database contains 67663 routes between 3321 airports on 548 airlines spanning the globe, as shown in the map above. Each entry contains the following information:\n",
    "\n",
    "**Airline**\t2-letter (IATA) or 3-letter (ICAO) code of the airline.\n",
    "\n",
    "**Airline ID**\tUnique OpenFlights identifier for airline (see Airline).\n",
    "\n",
    "**Source airport**\t3-letter (IATA) or 4-letter (ICAO) code of the source airport.\n",
    "\n",
    "**Source airport ID**\tUnique OpenFlights identifier for source airport (see Airport)\n",
    "\n",
    "**Destination airport**\t3-letter (IATA) or 4-letter (ICAO) code of the destination airport.\n",
    "\n",
    "**Destination airport ID**\tUnique OpenFlights identifier for destination airport (see Airport)\n",
    "\n",
    "**Codeshare**\t\"Y\" if this flight is a codeshare (that is, not operated by Airline, but another carrier), empty otherwise.\n",
    "\n",
    "**Stops**\tNumber of stops on this flight (\"0\" for direct)\n",
    "\n",
    "**Equipment**\t3-letter codes for plane type(s) generally used on this flight, separated by spaces\n",
    "The data is UTF-8 encoded. The special value \\N is used for \"NULL\" to indicate that no value is available, and is understood automatically by MySQL if imported.\n",
    "\n",
    "Notes:\n",
    "Routes are directional: if an airline operates services from A to B and from B to A, both A-B and B-A are listed separately.\n",
    "Routes where one carrier operates both its own and codeshare flights are listed only once."
   ]
  },
  {
   "cell_type": "code",
   "execution_count": 10,
   "id": "495023f4-d437-4e8e-9c43-419fce6e226d",
   "metadata": {},
   "outputs": [],
   "source": [
    "input_data = \"DATA/routes.txt\"\n",
    "\n",
    "headers = ['Airline', 'Airline ID', 'Source', 'Source ID', 'Destination', 'Destination ID', 'Codeshare', 'Stops', 'Equipment']\n",
    "\n",
    "routes = pd.read_csv(input_data, sep=',', names=headers)"
   ]
  },
  {
   "cell_type": "code",
   "execution_count": 11,
   "id": "9b2621d5-855b-4244-889a-7315521319b9",
   "metadata": {},
   "outputs": [
    {
     "data": {
      "text/plain": [
       "(67663, 9)"
      ]
     },
     "execution_count": 11,
     "metadata": {},
     "output_type": "execute_result"
    }
   ],
   "source": [
    "routes.shape"
   ]
  },
  {
   "cell_type": "code",
   "execution_count": 12,
   "id": "59671235-cc04-48e9-adc7-aa7183248e8c",
   "metadata": {},
   "outputs": [
    {
     "data": {
      "text/html": [
       "<div>\n",
       "<style scoped>\n",
       "    .dataframe tbody tr th:only-of-type {\n",
       "        vertical-align: middle;\n",
       "    }\n",
       "\n",
       "    .dataframe tbody tr th {\n",
       "        vertical-align: top;\n",
       "    }\n",
       "\n",
       "    .dataframe thead th {\n",
       "        text-align: right;\n",
       "    }\n",
       "</style>\n",
       "<table border=\"1\" class=\"dataframe\">\n",
       "  <thead>\n",
       "    <tr style=\"text-align: right;\">\n",
       "      <th></th>\n",
       "      <th>Airline</th>\n",
       "      <th>Airline ID</th>\n",
       "      <th>Source</th>\n",
       "      <th>Source ID</th>\n",
       "      <th>Destination</th>\n",
       "      <th>Destination ID</th>\n",
       "      <th>Codeshare</th>\n",
       "      <th>Stops</th>\n",
       "      <th>Equipment</th>\n",
       "    </tr>\n",
       "  </thead>\n",
       "  <tbody>\n",
       "    <tr>\n",
       "      <th>0</th>\n",
       "      <td>2B</td>\n",
       "      <td>410</td>\n",
       "      <td>AER</td>\n",
       "      <td>2965</td>\n",
       "      <td>KZN</td>\n",
       "      <td>2990</td>\n",
       "      <td>NaN</td>\n",
       "      <td>0</td>\n",
       "      <td>CR2</td>\n",
       "    </tr>\n",
       "    <tr>\n",
       "      <th>1</th>\n",
       "      <td>2B</td>\n",
       "      <td>410</td>\n",
       "      <td>ASF</td>\n",
       "      <td>2966</td>\n",
       "      <td>KZN</td>\n",
       "      <td>2990</td>\n",
       "      <td>NaN</td>\n",
       "      <td>0</td>\n",
       "      <td>CR2</td>\n",
       "    </tr>\n",
       "    <tr>\n",
       "      <th>2</th>\n",
       "      <td>2B</td>\n",
       "      <td>410</td>\n",
       "      <td>ASF</td>\n",
       "      <td>2966</td>\n",
       "      <td>MRV</td>\n",
       "      <td>2962</td>\n",
       "      <td>NaN</td>\n",
       "      <td>0</td>\n",
       "      <td>CR2</td>\n",
       "    </tr>\n",
       "    <tr>\n",
       "      <th>3</th>\n",
       "      <td>2B</td>\n",
       "      <td>410</td>\n",
       "      <td>CEK</td>\n",
       "      <td>2968</td>\n",
       "      <td>KZN</td>\n",
       "      <td>2990</td>\n",
       "      <td>NaN</td>\n",
       "      <td>0</td>\n",
       "      <td>CR2</td>\n",
       "    </tr>\n",
       "    <tr>\n",
       "      <th>4</th>\n",
       "      <td>2B</td>\n",
       "      <td>410</td>\n",
       "      <td>CEK</td>\n",
       "      <td>2968</td>\n",
       "      <td>OVB</td>\n",
       "      <td>4078</td>\n",
       "      <td>NaN</td>\n",
       "      <td>0</td>\n",
       "      <td>CR2</td>\n",
       "    </tr>\n",
       "  </tbody>\n",
       "</table>\n",
       "</div>"
      ],
      "text/plain": [
       "  Airline Airline ID Source Source ID Destination Destination ID Codeshare  \\\n",
       "0      2B        410    AER      2965         KZN           2990       NaN   \n",
       "1      2B        410    ASF      2966         KZN           2990       NaN   \n",
       "2      2B        410    ASF      2966         MRV           2962       NaN   \n",
       "3      2B        410    CEK      2968         KZN           2990       NaN   \n",
       "4      2B        410    CEK      2968         OVB           4078       NaN   \n",
       "\n",
       "   Stops Equipment  \n",
       "0      0       CR2  \n",
       "1      0       CR2  \n",
       "2      0       CR2  \n",
       "3      0       CR2  \n",
       "4      0       CR2  "
      ]
     },
     "execution_count": 12,
     "metadata": {},
     "output_type": "execute_result"
    }
   ],
   "source": [
    "routes.head()"
   ]
  },
  {
   "cell_type": "markdown",
   "id": "ab055fb9-8210-41ad-936d-cc0ab019d283",
   "metadata": {},
   "source": [
    "### Graph creation"
   ]
  },
  {
   "cell_type": "code",
   "execution_count": 13,
   "id": "81f0cb7d-87ef-4f06-b6fa-8d8fa7c06a47",
   "metadata": {},
   "outputs": [],
   "source": [
    "import networkx as nx"
   ]
  },
  {
   "cell_type": "code",
   "execution_count": 14,
   "id": "51aee48f-ec47-4a1d-b1a9-aa3c947348cd",
   "metadata": {},
   "outputs": [],
   "source": [
    "G = nx.DiGraph()\n",
    "\n",
    "for index, row in airports.iterrows():\n",
    "    G.add_node(row['ID'], name=row['Name'], city=row['City'], country=row['Country'], iata=row['IATA'], icao=row['ICAO'], lat=row['Latitude'], lon=row['Longitude'])\n",
    "\n",
    "for index, row in routes.iterrows():\n",
    "    G.add_edge(row['Source ID'], row['Destination ID'], airline=row['Airline ID'])"
   ]
  },
  {
   "cell_type": "code",
   "execution_count": null,
   "id": "31b75921-4801-4075-9174-39f26909d86e",
   "metadata": {},
   "outputs": [],
   "source": []
  }
 ],
 "metadata": {
  "kernelspec": {
   "display_name": "Python 3 (ipykernel)",
   "language": "python",
   "name": "python3"
  },
  "language_info": {
   "codemirror_mode": {
    "name": "ipython",
    "version": 3
   },
   "file_extension": ".py",
   "mimetype": "text/x-python",
   "name": "python",
   "nbconvert_exporter": "python",
   "pygments_lexer": "ipython3",
   "version": "3.11.5"
  }
 },
 "nbformat": 4,
 "nbformat_minor": 5
}
